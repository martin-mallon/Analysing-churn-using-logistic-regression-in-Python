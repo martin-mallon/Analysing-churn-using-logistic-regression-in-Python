{
 "cells": [
  {
   "cell_type": "code",
   "execution_count": 1,
   "id": "ae38bd3b",
   "metadata": {},
   "outputs": [],
   "source": [
    "# font size\n",
    "font_size = 12\n",
    "\n",
    "# style\n",
    "style_use = 'ggplot'\n",
    "\n",
    "# style params\n",
    "style_params = {'legend.fontsize': font_size*0.75,\n",
    "               'axes.labelsize': font_size,\n",
    "               'axes.titlesize': font_size,\n",
    "               'xtick.labelsize': font_size*0.75,\n",
    "               'ytick.labelsize': font_size*0.75,\n",
    "               'axes.titlepad': 25,\n",
    "               'figure.titlesize': font_size*1.5}\n",
    "\n",
    "# color palette\n",
    "color = ['#3498DB', '#1C1C3E', '#66658A'] \n",
    "\n",
    "# centre image\n",
    "from IPython.core.display import HTML\n",
    "centre_img = HTML(\"\"\"\n",
    "<style>\n",
    ".output_png {\n",
    "    display: table-cell;\n",
    "    text-align: center;\n",
    "    vertical-align: middle;\n",
    "}\n",
    "</style>\n",
    "\"\"\")"
   ]
  }
 ],
 "metadata": {
  "kernelspec": {
   "display_name": "Python 3",
   "language": "python",
   "name": "python3"
  },
  "language_info": {
   "codemirror_mode": {
    "name": "ipython",
    "version": 3
   },
   "file_extension": ".py",
   "mimetype": "text/x-python",
   "name": "python",
   "nbconvert_exporter": "python",
   "pygments_lexer": "ipython3",
   "version": "3.8.8"
  }
 },
 "nbformat": 4,
 "nbformat_minor": 5
}
